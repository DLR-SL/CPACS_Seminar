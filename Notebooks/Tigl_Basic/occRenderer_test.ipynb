{
 "cells": [
  {
   "cell_type": "code",
   "execution_count": 23,
   "id": "07b75442-86c3-442e-a0b9-fc48722f8fe4",
   "metadata": {},
   "outputs": [],
   "source": [
    "from tixi3 import tixi3wrapper\n",
    "from tigl3 import tigl3wrapper\n",
    "import tigl3.configuration"
   ]
  },
  {
   "cell_type": "code",
   "execution_count": 24,
   "id": "3d4e025e-f799-4ed8-b259-68f67aa4e874",
   "metadata": {},
   "outputs": [],
   "source": [
    "tixi_h = tixi3wrapper.Tixi3()\n",
    "tigl_h = tigl3wrapper.Tigl3()\n",
    "\n",
    "tixi_h.open(\"../simpletest.cpacs.xml\")\n",
    "tigl_h.open(tixi_h, \"\")"
   ]
  },
  {
   "cell_type": "code",
   "execution_count": 25,
   "id": "ddb8bfa6-dfbd-4d77-a9e8-6e1bdaa2b8e2",
   "metadata": {},
   "outputs": [],
   "source": [
    "mgr = tigl3.configuration.CCPACSConfigurationManager_get_instance()\n",
    "aircraft_config = mgr.get_configuration(tigl_h._handle.value)\n",
    "wing = aircraft_config.get_wing(1)\n",
    "wing_shape = wing.get_loft()"
   ]
  },
  {
   "cell_type": "code",
   "execution_count": 26,
   "id": "7d3b874e-002d-413f-905e-1b5e2db45290",
   "metadata": {},
   "outputs": [],
   "source": [
    "from OCC.Display.WebGl.jupyter_renderer import JupyterRenderer"
   ]
  },
  {
   "cell_type": "code",
   "execution_count": 27,
   "id": "eaa3f97f-f122-4143-8c54-26e37a8a01a0",
   "metadata": {},
   "outputs": [],
   "source": [
    "renderer = JupyterRenderer(size=(700,700))\n",
    "renderer.DisplayShape(wing_shape.shape())"
   ]
  },
  {
   "cell_type": "code",
   "execution_count": 28,
   "id": "28b66eb9-b8c7-4aac-b64b-ebb3d742adeb",
   "metadata": {},
   "outputs": [
    {
     "data": {
      "application/vnd.jupyter.widget-view+json": {
       "model_id": "39e51543ab134b0c8bf63af73386a456",
       "version_major": 2,
       "version_minor": 0
      },
      "text/plain": [
       "HBox(children=(VBox(children=(HBox(children=(Checkbox(value=True, description='Axes', layout=Layout(height='au…"
      ]
     },
     "metadata": {},
     "output_type": "display_data"
    }
   ],
   "source": [
    "renderer.Display()"
   ]
  },
  {
   "cell_type": "code",
   "execution_count": null,
   "id": "651ccb20-189c-4935-8a8e-f4e758795687",
   "metadata": {},
   "outputs": [],
   "source": []
  }
 ],
 "metadata": {
  "kernelspec": {
   "display_name": "Python 3 (ipykernel)",
   "language": "python",
   "name": "python3"
  },
  "language_info": {
   "codemirror_mode": {
    "name": "ipython",
    "version": 3
   },
   "file_extension": ".py",
   "mimetype": "text/x-python",
   "name": "python",
   "nbconvert_exporter": "python",
   "pygments_lexer": "ipython3",
   "version": "3.9.16"
  }
 },
 "nbformat": 4,
 "nbformat_minor": 5
}
