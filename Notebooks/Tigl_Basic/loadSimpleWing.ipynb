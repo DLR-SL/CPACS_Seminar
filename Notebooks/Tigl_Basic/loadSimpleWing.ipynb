{
 "cells": [
  {
   "cell_type": "markdown",
   "metadata": {},
   "source": [
    "# Excercise 1: Basic Python API #\n",
    "\n",
    "This exercise has been created by [M. Siggel](https://github.com/rainman110/tigl-workshop/commits?author=rainman110) and is part of an exercise collection on [GitHub](https://github.com/rainman110/tigl-workshop).\n",
    "\n",
    "The goal of this excercise is to get familiar with the TiGL API and its concepts.\n",
    " - You should traverse trough the CPACS tree, get the wing shape. \n",
    " - Create a box with OpenCASCADE\n",
    " - Export both with the TiGL IGES exporter with custom layers\n",
    " \n",
    "## Loading the modules ##\n",
    "As usual, load the required TiGL and TiXI modules"
   ]
  },
  {
   "cell_type": "code",
   "execution_count": null,
   "metadata": {},
   "outputs": [],
   "source": [
    "from tixi3 import tixi3wrapper\n",
    "from tigl3 import tigl3wrapper\n",
    "import tigl3.configuration"
   ]
  },
  {
   "cell_type": "markdown",
   "metadata": {},
   "source": [
    "Now open a the CPACS file simpletest.xml using the \"old\" high-level python API."
   ]
  },
  {
   "cell_type": "code",
   "execution_count": null,
   "metadata": {},
   "outputs": [],
   "source": [
    "tixi_h = tixi3wrapper.Tixi3()\n",
    "tigl_h = tigl3wrapper.Tigl3()\n",
    "\n",
    "tixi_h.open(\"./resources/simpletest.cpacs.xml\")\n",
    "tigl_h.open(tixi_h, \"\")"
   ]
  },
  {
   "cell_type": "markdown",
   "metadata": {},
   "source": [
    "## CPACS Traversal ##\n",
    "First, get the configuration manager from tigl3.configuration and retrieve the aircraft configuration.\n",
    "\n",
    "__Hint: CCPACSConfigurationManager_get_instance() gets the global configuration manager object__"
   ]
  },
  {
   "cell_type": "code",
   "execution_count": null,
   "metadata": {},
   "outputs": [],
   "source": [
    "# get the configuration manager\n",
    "mgr = tigl3.configuration.CCPACSConfigurationManager_get_instance()"
   ]
  },
  {
   "cell_type": "markdown",
   "metadata": {},
   "source": [
    "Get the aircraft config. Now, both \"old\" and \"new\" API come together, when we have to pass the TiGL handle to the configuration manager."
   ]
  },
  {
   "cell_type": "code",
   "execution_count": null,
   "metadata": {},
   "outputs": [],
   "source": [
    "aircraft_config = mgr.get_configuration(tigl_h._handle.value)"
   ]
  },
  {
   "cell_type": "markdown",
   "metadata": {},
   "source": [
    "Get the wing from the aircraft confiuration and print its wing uid. Check, what method the wing object offers."
   ]
  },
  {
   "cell_type": "code",
   "execution_count": null,
   "metadata": {},
   "outputs": [],
   "source": [
    "wing = aircraft_config.get_wing(1)"
   ]
  },
  {
   "cell_type": "code",
   "execution_count": null,
   "metadata": {},
   "outputs": [],
   "source": [
    "print(wing.get_uid())"
   ]
  },
  {
   "cell_type": "code",
   "execution_count": null,
   "metadata": {
    "tags": []
   },
   "outputs": [],
   "source": [
    "wing.get_aspect_ratio()"
   ]
  },
  {
   "cell_type": "code",
   "execution_count": null,
   "metadata": {
    "tags": []
   },
   "outputs": [],
   "source": [
    "help(wing)"
   ]
  },
  {
   "cell_type": "markdown",
   "metadata": {},
   "source": [
    "## Wing trailing edge renaming ##\n",
    "\n",
    "Now next tasks are:\n",
    " - Get the wing shape\n",
    " - Print all face names of the wing\n",
    " - Rename the trailing edge faces"
   ]
  },
  {
   "cell_type": "code",
   "execution_count": null,
   "metadata": {},
   "outputs": [],
   "source": [
    "wing_shape = wing.get_loft()"
   ]
  },
  {
   "cell_type": "code",
   "execution_count": null,
   "metadata": {},
   "outputs": [],
   "source": [
    "for iface in range(0, wing_shape.get_face_count()):\n",
    "    if wing_shape.get_face_traits(iface).name() == \"TrailingEdge\":\n",
    "        wing_shape.get_face_traits(iface).set_name(\"EdgeTrail\")\n",
    "    print(wing_shape.get_face_traits(iface).name())"
   ]
  },
  {
   "cell_type": "markdown",
   "metadata": {},
   "source": [
    "## OCC plotting ##\n",
    "\n",
    "We use openCascade to plot the wing shape."
   ]
  },
  {
   "cell_type": "code",
   "execution_count": null,
   "metadata": {},
   "outputs": [],
   "source": [
    "from OCC.Display.WebGl.jupyter_renderer import JupyterRenderer"
   ]
  },
  {
   "cell_type": "code",
   "execution_count": null,
   "metadata": {},
   "outputs": [],
   "source": [
    "renderer = JupyterRenderer(size=(700,700))\n",
    "renderer.DisplayShape(wing_shape.shape(), transparency=True)\n",
    "renderer.Display()"
   ]
  },
  {
   "cell_type": "markdown",
   "metadata": {},
   "source": [
    "## Create named shape with a box ##\n",
    "\n",
    "- Create a box with OpenCASCADE. You can use the BRepPrimAPI_MakeBox class from the OCC.BRepPrimAPI package.\n",
    "- Then, create a named shape from the TopoDS_Shape."
   ]
  },
  {
   "cell_type": "code",
   "execution_count": null,
   "metadata": {},
   "outputs": [],
   "source": [
    "from OCC.Core.BRepPrimAPI import BRepPrimAPI_MakeBox\n",
    "box = BRepPrimAPI_MakeBox(0.3, 0.8, 0.3).Solid()"
   ]
  },
  {
   "cell_type": "code",
   "execution_count": null,
   "metadata": {},
   "outputs": [],
   "source": [
    "from tigl3.geometry import CNamedShape\n",
    "box_ns = CNamedShape(box, \"MyBox\")"
   ]
  },
  {
   "cell_type": "markdown",
   "metadata": {},
   "source": [
    "## Export of the shapes ##\n",
    "Finally, you have to export both shapes into the IGES format. Both shapes should have a different IGES layer!\n",
    "\n",
    "You can inspect the result in TiGL Viewer by drag-and-dropping the igs file into the viewer."
   ]
  },
  {
   "cell_type": "code",
   "execution_count": null,
   "metadata": {},
   "outputs": [],
   "source": [
    "from tigl3.exports import create_exporter, IgesShapeOptions\n",
    "iges_exporter = create_exporter(\"igs\")\n",
    "iges_exporter.add_shape(wing_shape, IgesShapeOptions(1111))\n",
    "iges_exporter.add_shape(box_ns, IgesShapeOptions(2222))\n",
    "iges_exporter.write(\"ex1.igs\")"
   ]
  }
 ],
 "metadata": {
  "kernelspec": {
   "display_name": "Python 3 (ipykernel)",
   "language": "python",
   "name": "python3"
  },
  "language_info": {
   "codemirror_mode": {
    "name": "ipython",
    "version": 3
   },
   "file_extension": ".py",
   "mimetype": "text/x-python",
   "name": "python",
   "nbconvert_exporter": "python",
   "pygments_lexer": "ipython3",
   "version": "3.10.10"
  }
 },
 "nbformat": 4,
 "nbformat_minor": 4
}
