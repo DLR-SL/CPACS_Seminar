{
 "cells": [
  {
   "cell_type": "code",
   "execution_count": null,
   "id": "dc5d842f-63e9-4022-aaec-1c4af8071f6c",
   "metadata": {},
   "outputs": [],
   "source": [
    "from tixi3.tixi3wrapper import Tixi3"
   ]
  },
  {
   "cell_type": "code",
   "execution_count": null,
   "id": "28de5347-ad34-4603-8827-f7f84b5424bd",
   "metadata": {},
   "outputs": [],
   "source": [
    "tixi_h = Tixi3()"
   ]
  },
  {
   "cell_type": "markdown",
   "id": "152c9019-b68b-471c-bb20-8da369c163cb",
   "metadata": {},
   "source": [
    "This works:"
   ]
  },
  {
   "cell_type": "code",
   "execution_count": null,
   "id": "4cbf071f-6581-44ca-99b7-7bde0cd316de",
   "metadata": {},
   "outputs": [],
   "source": [
    "tixi_h.openDocument(\"test.xml\")\n",
    "tixi_h.registerNamespace(\"http://www.cpacs.de/schema/\", \"cp\")\n",
    "name = tixi_h.getTextElement(\"/cp:cpacs/cp:header/cp:name\")\n",
    "print(name)\n",
    "tixi_h.close()"
   ]
  },
  {
   "cell_type": "markdown",
   "id": "e8e8785a-06a6-421e-a699-dc476b9258df",
   "metadata": {},
   "source": [
    "How could this work without registering the namespace?:"
   ]
  },
  {
   "cell_type": "code",
   "execution_count": null,
   "id": "efc40903-dac9-47e4-9abb-26fa893eba68",
   "metadata": {},
   "outputs": [],
   "source": [
    "tixi_h.openDocument(\"test.xml\")\n",
    "#does not help...: tixi_h.registerNamespacesFromDocument()\n",
    "name = tixi_h.getTextElement(\"/cpacs/header/name\")\n",
    "print(name)\n",
    "tixi_h.close()"
   ]
  },
  {
   "cell_type": "markdown",
   "id": "175623dc-49d7-4ece-9055-06d585f33e43",
   "metadata": {},
   "source": [
    "------------------"
   ]
  },
  {
   "cell_type": "code",
   "execution_count": null,
   "id": "be35d39f-b8fa-42b8-b834-25c50b002570",
   "metadata": {},
   "outputs": [],
   "source": [
    "help(tixi_h)"
   ]
  }
 ],
 "metadata": {
  "kernelspec": {
   "display_name": "Python 3 (ipykernel)",
   "language": "python",
   "name": "python3"
  },
  "language_info": {
   "codemirror_mode": {
    "name": "ipython",
    "version": 3
   },
   "file_extension": ".py",
   "mimetype": "text/x-python",
   "name": "python",
   "nbconvert_exporter": "python",
   "pygments_lexer": "ipython3",
   "version": "3.10.13"
  }
 },
 "nbformat": 4,
 "nbformat_minor": 5
}
