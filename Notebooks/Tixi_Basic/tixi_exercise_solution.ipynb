{
 "cells": [
  {
   "cell_type": "markdown",
   "metadata": {},
   "source": [
    "# Read and write CPACS using TiXI\n",
    "\n",
    "[TiXI](https://github.com/DLR-SC/tixi):\n",
    " - Binary Downloads:  https://github.com/DLR-SC/tixi/wiki/Downloads\n",
    " - API Documentation: http://tixi.sourceforge.net/Doc/index.html\n",
    " - Issue Tracker:     https://github.com/DLR-SC/tixi/issues\n",
    " - Wiki:              https://github.com/DLR-SC/tixi/wiki"
   ]
  },
  {
   "cell_type": "code",
   "execution_count": null,
   "metadata": {
    "scrolled": true
   },
   "outputs": [],
   "source": [
    "from tixi3 import tixi3wrapper\n",
    "tixi_h = tixi3wrapper.Tixi3()"
   ]
  },
  {
   "cell_type": "code",
   "execution_count": null,
   "metadata": {
    "tags": []
   },
   "outputs": [],
   "source": [
    "help(tixi_h)"
   ]
  },
  {
   "cell_type": "markdown",
   "metadata": {},
   "source": [
    "Open a CPACS file with tixi:"
   ]
  },
  {
   "cell_type": "code",
   "execution_count": null,
   "metadata": {},
   "outputs": [],
   "source": [
    "tixi_h.open('resources/D150_v30.xml')"
   ]
  },
  {
   "cell_type": "markdown",
   "metadata": {},
   "source": [
    "Get airport information:"
   ]
  },
  {
   "cell_type": "code",
   "execution_count": null,
   "metadata": {},
   "outputs": [],
   "source": [
    "#airport_xpath = '/cpacs/airports/airport[@uID=\"FRA\"]'\n",
    "airport_xpath = tixi_h.uIDGetXPath('FRA')\n",
    "\n",
    "airport_name = tixi_h.getTextElement('/'.join((airport_xpath, 'name')))\n",
    "positionNorth = tixi_h.getDoubleElement('/'.join((airport_xpath, 'positionNorth')))\n",
    "positionEast = tixi_h.getDoubleElement('/'.join((airport_xpath, 'positionEast')))\n",
    "\n",
    "print('Name: %s\\nPosition North: %.3f\\nPosition East: %.3f' % (airport_name, positionNorth, positionEast))"
   ]
  },
  {
   "cell_type": "markdown",
   "metadata": {},
   "source": [
    "Some information would be very long if stored as xml-sequence. Thus, we introduced vectors:"
   ]
  },
  {
   "cell_type": "code",
   "execution_count": null,
   "metadata": {
    "scrolled": true
   },
   "outputs": [],
   "source": [
    "root_xpath = '/'.join((tixi_h.uIDGetXPath('FRAtoEWRID'),'flightPath'))\n",
    "\n",
    "vector_size = tixi_h.getVectorSize('/'.join((root_xpath,'waypoints')))\n",
    "\n",
    "waypoints = tixi_h.getTextElement('/'.join((root_xpath,'waypoints'))).split(';')\n",
    "latitude = tixi_h.getFloatVector('/'.join((root_xpath,'latitude')), vector_size)\n",
    "longitude = tixi_h.getFloatVector('/'.join((root_xpath,'longitude')), vector_size)\n",
    "\n",
    "for i, wp in enumerate(waypoints):\n",
    "    print('%10s %.3f %.3f'%(wp, latitude[i], longitude[i]))"
   ]
  },
  {
   "cell_type": "markdown",
   "metadata": {},
   "source": [
    "Let's add information about Braunschweig airport:\n",
    "    - add uID=\"BWE\" to the new <airport> element\n",
    "    - add text element \"name\" with \"Braunschweig, Germany\"\n",
    "    - add Positions: 52.3199° north / 10.556° east\n",
    "    - add elevation of 276ft"
   ]
  },
  {
   "cell_type": "code",
   "execution_count": null,
   "metadata": {},
   "outputs": [],
   "source": [
    "apts_xpath = '/cpacs/airports'\n",
    "idx = tixi_h.getNamedChildrenCount(apts_xpath,'airport') + 1\n",
    "\n",
    "tixi_h.createElementAtIndex(apts_xpath,'airport',idx)\n",
    "\n",
    "apt_xpath = '/'.join((apts_xpath,'airport[%i]'%idx))\n",
    "\n",
    "tixi_h.addTextAttribute(apt_xpath,'uID','BWE')\n",
    "tixi_h.addTextElement(apt_xpath, 'name', 'Braunschweig, Germany')\n",
    "tixi_h.addDoubleElement(apt_xpath, 'positionNorth', 52.319, '%.3f')\n",
    "tixi_h.addDoubleElement(apt_xpath, 'positionEast', 10.556, '%.3f')\n",
    "tixi_h.addIntegerElement(apt_xpath, 'elevation', 84, '%i')"
   ]
  },
  {
   "cell_type": "markdown",
   "metadata": {},
   "source": [
    "Save the modified CPACS instance as a new file:"
   ]
  },
  {
   "cell_type": "code",
   "execution_count": null,
   "metadata": {},
   "outputs": [],
   "source": [
    "tixi_h.save('D150_v30_modified.xml')\n",
    "tixi_h.close()"
   ]
  }
 ],
 "metadata": {
  "kernelspec": {
   "display_name": "Python 3 (ipykernel)",
   "language": "python",
   "name": "python3"
  },
  "language_info": {
   "codemirror_mode": {
    "name": "ipython",
    "version": 3
   },
   "file_extension": ".py",
   "mimetype": "text/x-python",
   "name": "python",
   "nbconvert_exporter": "python",
   "pygments_lexer": "ipython3",
   "version": "3.10.10"
  }
 },
 "nbformat": 4,
 "nbformat_minor": 4
}
