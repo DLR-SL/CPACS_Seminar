{
 "cells": [
  {
   "cell_type": "markdown",
   "metadata": {},
   "source": [
    "# TiXI Exercise 1: Connect Elements using uID\n",
    "\n",
    "In this exercise we will learn how to reference an XML Element using a `uID`."
   ]
  },
  {
   "cell_type": "markdown",
   "metadata": {
    "tags": []
   },
   "source": [
    "## Load Data\n",
    "As always, the first thing we need to do is to import and initialize *tixi*:"
   ]
  },
  {
   "cell_type": "code",
   "execution_count": null,
   "metadata": {
    "scrolled": true,
    "tags": []
   },
   "outputs": [],
   "source": [
    "from tixi3 import tixi3wrapper\n",
    "tixi_h = tixi3wrapper.Tixi3()"
   ]
  },
  {
   "cell_type": "markdown",
   "metadata": {},
   "source": [
    "Let us now open our example file located at `resources/CPACS_simple.xml`:"
   ]
  },
  {
   "cell_type": "code",
   "execution_count": null,
   "metadata": {
    "tags": []
   },
   "outputs": [],
   "source": [
    "tixi_h.open('resources/CPACS_simple.xml')"
   ]
  },
  {
   "cell_type": "markdown",
   "metadata": {},
   "source": [
    "You can also go to that directory and open the file to explore its contents. It contains some basic description of an aircraft model.\n",
    "\n",
    "In this exercise we will use the `engines` element as an example of how to reference elements using an `uID`. If you take a look at the file, there are actually two elements named `engines` which are located at different places in the XML file (also look at the picture below).\n",
    "The reason for this is, that we always want a single-source of truth and instead of copy-pasting the engine data when we have more than one engine (of the same type) for an aircraft, we will use `uID` references to point to its definition (see library/subsystem in the picture below)."
   ]
  },
  {
   "cell_type": "markdown",
   "metadata": {},
   "source": [
    "![Referencing an Engine using uID](resources/attachements/engine_uID.png)"
   ]
  },
  {
   "cell_type": "markdown",
   "metadata": {},
   "source": [
    "## Create an Engine Element\n",
    "\n",
    "Within our example file the actual library engine already exists and has the `uID=\"EngineDefinitionA\"`, so we don't have to worry about that. Instead, we want to add an engine to the aircraft model:"
   ]
  },
  {
   "cell_type": "code",
   "execution_count": null,
   "metadata": {
    "tags": []
   },
   "outputs": [],
   "source": [
    "# define the XPath for the aircraft-model\n",
    "model_xpath = tixi_h.uIDGetXPath('MyAircraft')\n",
    "\n",
    "# create the 'engines' element as a child of that model\n",
    "tixi_h.createElement(model_xpath, 'engines')"
   ]
  },
  {
   "cell_type": "markdown",
   "metadata": {},
   "source": [
    "Now we have created the *container* that will hold all the engines that are part of that aircraft model.\n",
    "Our next step is to add an engine to this *container element* we have just created:"
   ]
  },
  {
   "cell_type": "code",
   "execution_count": null,
   "metadata": {
    "tags": []
   },
   "outputs": [],
   "source": [
    "# define the XPath to the 'engines' element we have just created\n",
    "engine_container_xpath = '/'.join((model_xpath, 'engines'))\n",
    "\n",
    "# create an 'engine' element as a child\n",
    "tixi_h.createElement(engine_container_xpath, 'engine')"
   ]
  },
  {
   "cell_type": "markdown",
   "metadata": {},
   "source": [
    "We should add some more information to that engine element to make it easy to reference and understand for other people using our CPACS model:"
   ]
  },
  {
   "cell_type": "code",
   "execution_count": null,
   "metadata": {
    "tags": []
   },
   "outputs": [],
   "source": [
    "# define the XPath to the 'engine' element we have just created\n",
    "engine_xpath = '/'.join((engine_container_xpath, 'engine[1]'))\n",
    "\n",
    "# specify the 'name' of the engine as a TextElement\n",
    "tixi_h.addTextElement(engine_xpath, 'name', 'My Engine')\n",
    "\n",
    "# add a 'description' as a TextElement\n",
    "tixi_h.addTextElement(engine_xpath, 'description', 'this is my engine')\n"
   ]
  },
  {
   "cell_type": "markdown",
   "metadata": {},
   "source": [
    "## Create a uID Reference "
   ]
  },
  {
   "cell_type": "markdown",
   "metadata": {},
   "source": [
    "Now that we have created the necessary elements we can finally create a reference to our *engine definition*. It is as simple as adding a new `TextElement`:"
   ]
  },
  {
   "cell_type": "code",
   "execution_count": null,
   "metadata": {
    "tags": []
   },
   "outputs": [],
   "source": [
    "# add an 'engineUID' TextElement to the engine containing 'EngineDefinitionA'\n",
    "tixi_h.addTextElement(engine_xpath, 'engineUID', 'EngineDefinitionA')"
   ]
  },
  {
   "cell_type": "markdown",
   "metadata": {},
   "source": [
    "That's it, we have now created a `uID` reference! We can now declare our own `uID` attribute on the engine we have created so that others might reference it as well:"
   ]
  },
  {
   "cell_type": "code",
   "execution_count": null,
   "metadata": {
    "tags": []
   },
   "outputs": [],
   "source": [
    "# add a 'engineUID' TextElement to the engine containing 'EngineDefinitionA'\n",
    "tixi_h.addTextAttribute(engine_xpath, 'uID', 'MySpecialEngine')"
   ]
  },
  {
   "cell_type": "markdown",
   "metadata": {},
   "source": [
    "## Save the CPACS File"
   ]
  },
  {
   "cell_type": "markdown",
   "metadata": {},
   "source": [
    "After we have modified the CPACS model we can save it as a new CPACS file:"
   ]
  },
  {
   "cell_type": "code",
   "execution_count": null,
   "metadata": {
    "tags": []
   },
   "outputs": [],
   "source": [
    "tixi_h.save('Exercise_1_result.xml')\n",
    "tixi_h.close()"
   ]
  },
  {
   "cell_type": "markdown",
   "metadata": {},
   "source": [
    "Don't forget to call the `tixi_h.close()` method after saving!"
   ]
  }
 ],
 "metadata": {
  "kernelspec": {
   "display_name": "Python 3 (ipykernel)",
   "language": "python",
   "name": "python3"
  },
  "language_info": {
   "codemirror_mode": {
    "name": "ipython",
    "version": 3
   },
   "file_extension": ".py",
   "mimetype": "text/x-python",
   "name": "python",
   "nbconvert_exporter": "python",
   "pygments_lexer": "ipython3",
   "version": "3.10.10"
  }
 },
 "nbformat": 4,
 "nbformat_minor": 4
}
