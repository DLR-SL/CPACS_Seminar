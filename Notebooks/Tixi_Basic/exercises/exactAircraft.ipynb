{
 "cells": [
  {
   "cell_type": "code",
   "execution_count": null,
   "id": "f6dc6c38-72bd-4e7f-9698-4da4a45c3cb3",
   "metadata": {},
   "outputs": [],
   "source": [
    "import numpy as np\n",
    "import plotly.graph_objects as go"
   ]
  },
  {
   "cell_type": "code",
   "execution_count": null,
   "id": "b703315c-515b-49f0-ac6a-9d5f3d344437",
   "metadata": {},
   "outputs": [],
   "source": [
    "def plot_trajectory(flightDistance, altitude, thrust, trajec_name):\n",
    "    fig = go.Figure()\n",
    "\n",
    "    fig.add_trace(go.Scatter(x=np.array(flightDistance)/1000., y=np.array(altitude)*3.28084, mode='lines', name='Altitude'))\n",
    "    fig.add_trace(go.Scatter(x=np.array(flightDistance)/1000., y=thrust, mode='lines', name='Thrust', yaxis='y2'))\n",
    "\n",
    "    fig.update_layout(title=trajec_name,\n",
    "        xaxis_title='Flight distance [km]',\n",
    "        yaxis_title='Altitude [ft]',\n",
    "        yaxis2=dict(title='Thrust [N]', overlaying='y', side='right'))\n",
    "\n",
    "    fig.show()"
   ]
  },
  {
   "cell_type": "markdown",
   "id": "1d531ddc-30e1-43cc-8579-62b18b6ad074",
   "metadata": {},
   "source": [
    "# Example: Exact aircraft"
   ]
  },
  {
   "cell_type": "markdown",
   "id": "f76ca4b0-2e07-474a-9ebf-038fc3832b15",
   "metadata": {},
   "source": [
    "Get example files from the [Exact teamsite](https://teamsites.dlr.de/sites/EXACT2/Documents/HAP1/CPACS/Tutorials/CPACS_Examples)"
   ]
  },
  {
   "cell_type": "markdown",
   "id": "d91d2f87-48f6-4aba-803d-cf239dfb5b7b",
   "metadata": {},
   "source": [
    "## Initialize TiXI"
   ]
  },
  {
   "cell_type": "code",
   "execution_count": null,
   "id": "e3bfd7c5-de45-40e9-93f7-5e844fdb16f7",
   "metadata": {},
   "outputs": [],
   "source": [
    "from tixi3.tixi3wrapper import Tixi3\n",
    "tixi_h = Tixi3()"
   ]
  },
  {
   "cell_type": "raw",
   "id": "f4e20131-15cd-4353-a210-8669e6a6ccc2",
   "metadata": {},
   "source": [
    "help(tixi_h)"
   ]
  },
  {
   "cell_type": "markdown",
   "id": "da2e9871-9f2e-40a7-a289-d8f13ea26feb",
   "metadata": {},
   "source": [
    "A little helper function:"
   ]
  },
  {
   "cell_type": "code",
   "execution_count": null,
   "id": "d1dfb00c-7bce-4164-a0d9-fe91525e67cd",
   "metadata": {},
   "outputs": [],
   "source": [
    "def expression_get_xpaths(xpath_exp):\n",
    "    xpaths = []\n",
    "    no_elements = tixi_h.xPathEvaluateNodeNumber(xpath_exp)\n",
    "    for i in range(no_elements):\n",
    "        xpaths.append(tixi_h.xPathExpressionGetXPath(xpath_exp, i + 1))\n",
    "    return xpaths"
   ]
  },
  {
   "cell_type": "code",
   "execution_count": null,
   "id": "5f9d38b6-ad30-4a32-b086-23753e1e2b73",
   "metadata": {},
   "outputs": [],
   "source": [
    "tixi_h.open(\"D250-TPLH2-MHEP-2040.xml\")"
   ]
  },
  {
   "cell_type": "markdown",
   "id": "a59f5a36-19f5-45ec-b383-97cf0b522dda",
   "metadata": {},
   "source": [
    "## Task:\n",
    "- How many trajectories are available?\n",
    "- plot the one or more trajectory"
   ]
  },
  {
   "cell_type": "code",
   "execution_count": null,
   "id": "04bb0392-f671-4a43-bcba-ee0ffb2b015d",
   "metadata": {},
   "outputs": [],
   "source": [
    "# %load ./resources/solutions/plotTrajectories.py"
   ]
  }
 ],
 "metadata": {
  "kernelspec": {
   "display_name": "Python 3 (ipykernel)",
   "language": "python",
   "name": "python3"
  },
  "language_info": {
   "codemirror_mode": {
    "name": "ipython",
    "version": 3
   },
   "file_extension": ".py",
   "mimetype": "text/x-python",
   "name": "python",
   "nbconvert_exporter": "python",
   "pygments_lexer": "ipython3",
   "version": "3.10.13"
  }
 },
 "nbformat": 4,
 "nbformat_minor": 5
}
