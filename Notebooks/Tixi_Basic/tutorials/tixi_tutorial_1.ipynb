{
 "cells": [
  {
   "cell_type": "markdown",
   "metadata": {},
   "source": [
    "# TiXI Tutorial 1: Read and write CPACS files\n",
    "\n",
    "In this tutorial we will learn how to use the [*tixi*](https://github.com/DLR-SC/tixi) library to:\n",
    "- initialize the *tixi* library\n",
    "- read data from a CPACS file\n",
    "- modify the data\n",
    "- write the data back to a new CPACS file\n",
    "\n",
    "Here are some helpful resources for [TiXI](https://github.com/DLR-SC/tixi):\n",
    "- Binary Downloads:  https://github.com/DLR-SC/tixi/wiki/Downloads\n",
    "- API Documentation: https://dlr-sc.github.io/tixi/\n",
    "- Issue Tracker:     https://github.com/DLR-SC/tixi/issues\n",
    "- Wiki:              https://github.com/DLR-SC/tixi/wiki"
   ]
  },
  {
   "cell_type": "markdown",
   "metadata": {
    "tags": []
   },
   "source": [
    "## Initialize TiXI\n",
    "The first thing we need to do is to import and initialize tixi:"
   ]
  },
  {
   "cell_type": "code",
   "execution_count": null,
   "metadata": {
    "scrolled": true,
    "tags": []
   },
   "outputs": [],
   "source": [
    "from tixi3 import tixi3wrapper\n",
    "tixi_h = tixi3wrapper.Tixi3()"
   ]
  },
  {
   "cell_type": "markdown",
   "metadata": {},
   "source": [
    "Let's take a look into this object and see what functionality it provides using the [python help method](https://docs.python.org/3/library/functions.html#help):"
   ]
  },
  {
   "cell_type": "code",
   "execution_count": null,
   "metadata": {
    "tags": []
   },
   "outputs": [],
   "source": [
    "help(tixi_h)"
   ]
  },
  {
   "cell_type": "markdown",
   "metadata": {},
   "source": [
    "## Open a CPACS File"
   ]
  },
  {
   "cell_type": "markdown",
   "metadata": {},
   "source": [
    "We can now open a CPACS file from our `resources` with *tixi*:"
   ]
  },
  {
   "cell_type": "code",
   "execution_count": null,
   "metadata": {
    "tags": []
   },
   "outputs": [],
   "source": [
    "tixi_h.open('resources/CPACS_simple.xml')"
   ]
  },
  {
   "cell_type": "markdown",
   "metadata": {},
   "source": [
    "You can also go to that directory and open the file to explore its contents.\n",
    "It contains some basic description of an aircraft model, data on different airports, and a flightpath. In this tutorial we will use the `airports` and `flightPath` elements as an example of how to read, modify, and write data.\n",
    "\n",
    "Now that the model is loaded into memory, we can start working with it."
   ]
  },
  {
   "cell_type": "markdown",
   "metadata": {},
   "source": [
    "## Read Data from the CPACS Model"
   ]
  },
  {
   "cell_type": "markdown",
   "metadata": {},
   "source": [
    "First we are going to read some data from the model. Reading is always done using one of the `tixi_h.get...()` methods which take an [XPath](https://en.wikipedia.org/wiki/XPath) as their first argument. This `XPath` is basically a query that identifies `Elements` or `Attributes` within a XML file.\n",
    "\n",
    "Let us get the `name` of the Frankfurt airport using the path to the airports and selecting it among all the other airports via its index:"
   ]
  },
  {
   "cell_type": "code",
   "execution_count": null,
   "metadata": {
    "tags": []
   },
   "outputs": [],
   "source": [
    "airport_name = tixi_h.getTextElement('/cpacs/airports/airport[1]/name')\n",
    "print('Name: ', airport_name)"
   ]
  },
  {
   "cell_type": "markdown",
   "metadata": {},
   "source": [
    "A selection via the index could be error prone and we can use the `uID` attribute instead:"
   ]
  },
  {
   "cell_type": "code",
   "execution_count": null,
   "metadata": {
    "tags": []
   },
   "outputs": [],
   "source": [
    "airport_name = tixi_h.getTextElement('/cpacs/airports/airport[@uID=\"FRA\"]/name')\n",
    "print('Name: ', airport_name)"
   ]
  },
  {
   "cell_type": "markdown",
   "metadata": {},
   "source": [
    "If you already know the `uID` attribute of the element you are searching for, you can also use a special method in *tixi* to find the `XPath` for that element:"
   ]
  },
  {
   "cell_type": "code",
   "execution_count": null,
   "metadata": {
    "tags": []
   },
   "outputs": [],
   "source": [
    "airport_xpath = tixi_h.uIDGetXPath('FRA')\n",
    "print('Airport XPath: ', airport_xpath)"
   ]
  },
  {
   "cell_type": "markdown",
   "metadata": {},
   "source": [
    "We can then use this `XPath` to get the same information as above:"
   ]
  },
  {
   "cell_type": "code",
   "execution_count": null,
   "metadata": {
    "tags": []
   },
   "outputs": [],
   "source": [
    "airport_name = tixi_h.getTextElement('/'.join((airport_xpath, 'name')))    # join is equivalent to: airport_xpath + '/' + 'name'\n",
    "print('Name: ', airport_name)"
   ]
  },
  {
   "cell_type": "markdown",
   "metadata": {},
   "source": [
    "---\n",
    "\n",
    "Let us now get some information about that airport from that CPACS model:"
   ]
  },
  {
   "cell_type": "code",
   "execution_count": null,
   "metadata": {
    "tags": []
   },
   "outputs": [],
   "source": [
    "positionNorth = tixi_h.getDoubleElement('/'.join((airport_xpath, 'positionNorth')))\n",
    "positionEast = tixi_h.getDoubleElement('/'.join((airport_xpath, 'positionEast')))\n",
    "\n",
    "print('Position North: %.3f' % positionNorth)\n",
    "print('Position East: %.3f' % positionEast)"
   ]
  },
  {
   "cell_type": "markdown",
   "metadata": {},
   "source": [
    "Here we are using the method `getDoubleElement` that automatically converts the data at the given `XPath` into a number."
   ]
  },
  {
   "cell_type": "markdown",
   "metadata": {},
   "source": [
    "### Reading Vector Data\n",
    "\n",
    "Some information would be very long if it would be stored as XML elements, such as waypoint data on a specific flight path. This is why the special [Vector Type](https://www.cpacs.de/documentation/CPACS_3_4_0_Docs/html/32aea7db-266a-6dfa-5d16-f9b63c1e62a8.htm) exists in CPACS and *tixi* allows us to easily extract that type of data:"
   ]
  },
  {
   "cell_type": "code",
   "execution_count": null,
   "metadata": {
    "scrolled": true,
    "tags": []
   },
   "outputs": [],
   "source": [
    "# get the element we are interested in, in this case a flight-path\n",
    "fp_xpath = '/'.join((tixi_h.uIDGetXPath('FRAtoEWRID'),'flightPath'))\n",
    "\n",
    "# figure out the size of the data, i.e. the number of waypoints\n",
    "vector_size = tixi_h.getVectorSize('/'.join((fp_xpath,'waypoints')))\n",
    "\n",
    "# get the data we are interested in\n",
    "waypoints = tixi_h.getTextElement('/'.join((fp_xpath,'waypoints'))).split(';')\n",
    "latitude = tixi_h.getFloatVector('/'.join((fp_xpath,'latitude')), vector_size)\n",
    "longitude = tixi_h.getFloatVector('/'.join((fp_xpath,'longitude')), vector_size)\n",
    "\n",
    "# print the data\n",
    "for i, wp in enumerate(waypoints):\n",
    "    print(f'{wp:>10} {latitude[i]:>10.3f} {longitude[i]:>10.3f}')"
   ]
  },
  {
   "cell_type": "markdown",
   "metadata": {
    "tags": []
   },
   "source": [
    "## Write Data to a CPACS Model"
   ]
  },
  {
   "cell_type": "markdown",
   "metadata": {},
   "source": [
    "After we have seen how to read data from a CPACS model, let us now write data to it!\n",
    "\n",
    "Let's add information about Braunschweig airport:\n",
    "- IATA code is `BWE` which we will use as the `uID`\n",
    "- the `name` will be `Braunschweig, Germany`\n",
    "- its position is `52.3199°N 10.556°E`\n",
    "- the elevation is at `84 m`"
   ]
  },
  {
   "cell_type": "code",
   "execution_count": null,
   "metadata": {
    "tags": []
   },
   "outputs": [],
   "source": [
    "# identify the element below which we want to create the new airport\n",
    "airports_xpath = '/cpacs/airports'\n",
    "\n",
    "# count the current number of child-elements to know the next index\n",
    "next_index = tixi_h.getNamedChildrenCount(airports_xpath,'airport') + 1\n",
    "\n",
    "# create a new element at that index\n",
    "tixi_h.createElementAtIndex(airports_xpath,'airport',next_index)\n",
    "\n",
    "# get the xpath of that new element\n",
    "braunschweig_xpath = '/'.join((airports_xpath,f'airport[{next_index}]'))\n",
    "\n",
    "# add new attributes and elements\n",
    "tixi_h.addTextAttribute(braunschweig_xpath,'uID','BWE')\n",
    "tixi_h.addTextElement(braunschweig_xpath, 'name', 'Braunschweig, Germany')\n",
    "tixi_h.addDoubleElement(braunschweig_xpath, 'positionNorth', 52.319, '%.3f')\n",
    "tixi_h.addDoubleElement(braunschweig_xpath, 'positionEast', 10.556, '%.3f')\n",
    "tixi_h.addIntegerElement(braunschweig_xpath, 'elevation', 84, '%i')"
   ]
  },
  {
   "cell_type": "markdown",
   "metadata": {},
   "source": [
    "## Save a CPACS File"
   ]
  },
  {
   "cell_type": "markdown",
   "metadata": {},
   "source": [
    "After we have modified the CPACS model using *tixi*, we can save it as a new CPACS file:"
   ]
  },
  {
   "cell_type": "code",
   "execution_count": null,
   "metadata": {
    "tags": []
   },
   "outputs": [],
   "source": [
    "tixi_h.save('tixi_tutorial_1_result.xml')\n",
    "tixi_h.close()"
   ]
  },
  {
   "cell_type": "markdown",
   "metadata": {},
   "source": [
    "Don't forget to call the `tixi_h.close()` method after saving!"
   ]
  },
  {
   "cell_type": "markdown",
   "metadata": {},
   "source": [
    "## Next Steps\n",
    "\n",
    "You have seen how seen how to open, modify, and save a CPACS file using *tixi*. Now you can try it out yourself with our [first exercise](../exercises/tixi_exercise_1.ipynb)."
   ]
  }
 ],
 "metadata": {
  "kernelspec": {
   "display_name": "Python 3 (ipykernel)",
   "language": "python",
   "name": "python3"
  },
  "language_info": {
   "codemirror_mode": {
    "name": "ipython",
    "version": 3
   },
   "file_extension": ".py",
   "mimetype": "text/x-python",
   "name": "python",
   "nbconvert_exporter": "python",
   "pygments_lexer": "ipython3",
   "version": "3.10.10"
  }
 },
 "nbformat": 4,
 "nbformat_minor": 4
}
